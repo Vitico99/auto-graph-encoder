{
 "cells": [
  {
   "cell_type": "code",
   "execution_count": null,
   "metadata": {},
   "outputs": [],
   "source": [
    "import pandas as pd\n",
    "\n",
    "feature_test = pd.read_csv('./feature_test.csv')\n",
    "feature_train = pd.read_csv('./feature_train.csv')\n",
    "feature_all = pd.concat([feature_test, feature_train])"
   ]
  },
  {
   "cell_type": "code",
   "execution_count": null,
   "metadata": {},
   "outputs": [],
   "source": [
    "from features import all_columns\n",
    "\n",
    "feature_all = feature_all[all_columns]"
   ]
  },
  {
   "cell_type": "code",
   "execution_count": null,
   "metadata": {},
   "outputs": [],
   "source": [
    "import random\n",
    "def dummy_sample(all_features_df, sample_size, output_directory='./base', file_id='new'):\n",
    "\n",
    "    categories = ['bar', 'box', 'heatmap', 'histogram', 'line', 'scatter']\n",
    "    category_size = int(sample_size/len(categories))\n",
    "    sample = set()\n",
    "\n",
    "    for category in categories:\n",
    "        datasets_x_category = all_features_df[all_features_df['trace_type'] == category]\n",
    "        datasets = set(datasets_x_category['fid'])\n",
    "        if len(datasets) < category_size:\n",
    "            sample.update(datasets)\n",
    "        else: \n",
    "            sample.update(random.sample(datasets, category_size))\n",
    "\n",
    "    sampled_all_features_df = all_features_df[all_features_df['fid'].isin(sample)]\n",
    "\n",
    "    dataset_file = f'{output_directory}/dummy_dataset_{file_id}.csv'\n",
    "    with open(dataset_file, 'w') as f:\n",
    "        sampled_all_features_df.to_csv(f, index=False)"
   ]
  },
  {
   "cell_type": "code",
   "execution_count": null,
   "metadata": {},
   "outputs": [],
   "source": [
    "dummy_sample(feature_all, 1000, file_id='1k')\n",
    "dummy_sample(feature_all, 3000, file_id='3k')"
   ]
  }
 ],
 "metadata": {
  "interpreter": {
   "hash": "0939b995531ce8a9066ad8a6450587907ae3c10297dd7ce61e1264b7deaa8f66"
  },
  "kernelspec": {
   "display_name": "Python 3.9.2 ('auto-graph-encoder': venv)",
   "language": "python",
   "name": "python3"
  },
  "language_info": {
   "codemirror_mode": {
    "name": "ipython",
    "version": 3
   },
   "file_extension": ".py",
   "mimetype": "text/x-python",
   "name": "python",
   "nbconvert_exporter": "python",
   "pygments_lexer": "ipython3",
   "version": "3.9.2"
  },
  "orig_nbformat": 4
 },
 "nbformat": 4,
 "nbformat_minor": 2
}

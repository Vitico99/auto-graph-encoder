{
 "cells": [
  {
   "cell_type": "code",
   "execution_count": 16,
   "metadata": {},
   "outputs": [],
   "source": [
    "from dummy.dataset import Dataset\n",
    "from knn import KNeighborsModel\n",
    "from nbayes import NaiveBayesModel\n",
    "from sklearn.metrics import accuracy_score\n",
    "\n",
    "data = Dataset('./dummy/folds/dummy_1k_5_folds.csv')"
   ]
  },
  {
   "cell_type": "code",
   "execution_count": 15,
   "metadata": {},
   "outputs": [
    {
     "name": "stdout",
     "output_type": "stream",
     "text": [
      "0.29821717990275526\n",
      "0.2976827094474153\n",
      "0.33117932148626816\n",
      "0.27162629757785467\n",
      "0.2724252491694352\n"
     ]
    }
   ],
   "source": [
    "for x_train, y_train, x_validate, y_validate in data:\n",
    "    model = KNeighborsModel()\n",
    "    model.train(x_train, y_train)\n",
    "    y_output = model.predict(x_validate)\n",
    "    print(accuracy_score(y_output, y_validate))"
   ]
  },
  {
   "cell_type": "code",
   "execution_count": 17,
   "metadata": {},
   "outputs": [
    {
     "name": "stdout",
     "output_type": "stream",
     "text": [
      "0.18962722852512157\n",
      "0.2709447415329768\n",
      "0.22617124394184168\n",
      "0.2560553633217993\n",
      "0.2956810631229236\n"
     ]
    }
   ],
   "source": [
    "for x_train, y_train, x_validate, y_validate in data:\n",
    "    model = NaiveBayesModel()\n",
    "    model.train(x_train, y_train)\n",
    "    y_output = model.predict(x_validate)\n",
    "    print(accuracy_score(y_output, y_validate))"
   ]
  }
 ],
 "metadata": {
  "interpreter": {
   "hash": "0939b995531ce8a9066ad8a6450587907ae3c10297dd7ce61e1264b7deaa8f66"
  },
  "kernelspec": {
   "display_name": "Python 3.9.2 ('auto-graph-encoder': venv)",
   "language": "python",
   "name": "python3"
  },
  "language_info": {
   "codemirror_mode": {
    "name": "ipython",
    "version": 3
   },
   "file_extension": ".py",
   "mimetype": "text/x-python",
   "name": "python",
   "nbconvert_exporter": "python",
   "pygments_lexer": "ipython3",
   "version": "3.9.2"
  },
  "orig_nbformat": 4
 },
 "nbformat": 4,
 "nbformat_minor": 2
}

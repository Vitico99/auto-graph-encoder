{
 "cells": [
  {
   "cell_type": "code",
   "execution_count": 1,
   "metadata": {},
   "outputs": [
    {
     "name": "stderr",
     "output_type": "stream",
     "text": [
      "/tmp/ipykernel_12324/3602506354.py:3: DtypeWarning: Columns (11) have mixed types. Specify dtype option on import or set low_memory=False.\n",
      "  feature_test = pd.read_csv('./feature_test.csv')\n",
      "/tmp/ipykernel_12324/3602506354.py:4: DtypeWarning: Columns (8,11) have mixed types. Specify dtype option on import or set low_memory=False.\n",
      "  feature_train = pd.read_csv('./feature_train.csv')\n"
     ]
    }
   ],
   "source": [
    "import pandas as pd\n",
    "\n",
    "feature_test = pd.read_csv('./feature_test.csv')\n",
    "feature_train = pd.read_csv('./feature_train.csv')\n",
    "feature_all = pd.concat([feature_test, feature_train])"
   ]
  },
  {
   "cell_type": "code",
   "execution_count": 8,
   "metadata": {},
   "outputs": [],
   "source": [
    "from features import all_columns, outcomes_columns, TRACE_TYPE, IS_XSRC, IS_YSRC, FIELD_ID\n",
    "from sklearn.impute import SimpleImputer\n",
    "import numpy as np\n",
    "\n",
    "feature_all = feature_all[all_columns]\n",
    "\n",
    "\n",
    "inputer = SimpleImputer(missing_values=np.nan, strategy='constant', fill_value=False)\n",
    "inputer.fit(feature_all[outcomes_columns])\n",
    "feature_all[outcomes_columns] = inputer.transform(feature_all[outcomes_columns])"
   ]
  },
  {
   "cell_type": "code",
   "execution_count": 9,
   "metadata": {},
   "outputs": [],
   "source": [
    "import random\n",
    "from preprocess import categories_id\n",
    "\n",
    "def dummy_sample(all_features_df, sample_size, output_directory='./base', file_id='new'):\n",
    "\n",
    "    category_size = int(sample_size/len(categories_id))\n",
    "    sample = set()\n",
    "\n",
    "    for category in categories_id:\n",
    "        trace_type, is_xsrc, is_ysrc = category\n",
    "        datasets_x_category = all_features_df[(all_features_df[TRACE_TYPE] == trace_type) & (all_features_df[IS_XSRC].astype('bool') == is_xsrc) & (all_features_df[IS_YSRC].astype('bool') == is_ysrc)]\n",
    "        datasets = set(datasets_x_category[FIELD_ID])\n",
    "        if len(datasets) < category_size:\n",
    "            sample.update(datasets)\n",
    "        else: \n",
    "            sample.update(random.sample(datasets, category_size))\n",
    "\n",
    "    sampled_all_features_df = all_features_df[all_features_df[FIELD_ID].isin(sample)]\n",
    "\n",
    "    dataset_file = f'{output_directory}/dummy_dataset_{file_id}.csv'\n",
    "    with open(dataset_file, 'w') as f:\n",
    "        sampled_all_features_df.to_csv(f, index=False)"
   ]
  },
  {
   "cell_type": "code",
   "execution_count": 12,
   "metadata": {},
   "outputs": [
    {
     "name": "stdout",
     "output_type": "stream",
     "text": [
      "21292\n",
      "35930\n",
      "4199\n",
      "15693\n",
      "390\n",
      "396\n"
     ]
    },
    {
     "name": "stderr",
     "output_type": "stream",
     "text": [
      "/tmp/ipykernel_12324/1546481993.py:17: DeprecationWarning: Sampling from a set deprecated\n",
      "since Python 3.9 and will be removed in a subsequent version.\n",
      "  sample.update(random.sample(datasets, category_size))\n"
     ]
    },
    {
     "name": "stdout",
     "output_type": "stream",
     "text": [
      "7227\n",
      "928\n",
      "37722\n",
      "70993\n",
      "43731\n",
      "64477\n",
      "21292\n",
      "35930\n",
      "4199\n",
      "15693\n",
      "390\n",
      "396\n",
      "7227\n",
      "928\n",
      "37722\n",
      "70993\n",
      "43731\n",
      "64477\n",
      "21292\n",
      "35930\n",
      "4199\n",
      "15693\n",
      "390\n",
      "396\n",
      "7227\n",
      "928\n",
      "37722\n",
      "70993\n",
      "43731\n",
      "64477\n",
      "21292\n",
      "35930\n",
      "4199\n",
      "15693\n",
      "390\n",
      "396\n",
      "7227\n",
      "928\n",
      "37722\n",
      "70993\n",
      "43731\n",
      "64477\n"
     ]
    }
   ],
   "source": [
    "dummy_sample(feature_all, 1000, file_id='1k')\n",
    "dummy_sample(feature_all, 3000, file_id='3k')\n",
    "dummy_sample(feature_all, 5000, file_id='5k')\n",
    "dummy_sample(feature_all, 10000, file_id='10k')"
   ]
  }
 ],
 "metadata": {
  "interpreter": {
   "hash": "0939b995531ce8a9066ad8a6450587907ae3c10297dd7ce61e1264b7deaa8f66"
  },
  "kernelspec": {
   "display_name": "Python 3.9.2 ('auto-graph-encoder': venv)",
   "language": "python",
   "name": "python3"
  },
  "language_info": {
   "codemirror_mode": {
    "name": "ipython",
    "version": 3
   },
   "file_extension": ".py",
   "mimetype": "text/x-python",
   "name": "python",
   "nbconvert_exporter": "python",
   "pygments_lexer": "ipython3",
   "version": "3.9.2"
  },
  "orig_nbformat": 4
 },
 "nbformat": 4,
 "nbformat_minor": 2
}

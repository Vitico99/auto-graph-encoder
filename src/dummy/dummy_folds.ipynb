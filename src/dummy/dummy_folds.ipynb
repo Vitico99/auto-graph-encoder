{
 "cells": [
  {
   "cell_type": "code",
   "execution_count": null,
   "metadata": {},
   "outputs": [],
   "source": [
    "import pandas as pd\n",
    "from sklearn.model_selection import KFold\n",
    "from preprocess import preprocess, categories_id\n",
    "from features import outcomes, TRACE_TYPE, IS_XSRC, IS_YSRC, FID, FIELD_ID\n",
    "import numpy as np"
   ]
  },
  {
   "cell_type": "code",
   "execution_count": null,
   "metadata": {},
   "outputs": [],
   "source": [
    "transform = lambda x: categories_id[(x[TRACE_TYPE], x[IS_XSRC], x[IS_YSRC])]\n",
    "\n",
    "def dummy_folds(file_id,  n_folds, data_directory='./base', output_directory='./folds'):\n",
    "\n",
    "    dataset_file = f'{data_directory}/dummy_dataset_{file_id}.csv'\n",
    "    dataset_df = preprocess(dataset_file)\n",
    "    dataset_df['class'] = dataset_df[outcomes].apply(transform, axis=1)\n",
    "    dataset_df = dataset_df.drop(outcomes, axis=1)\n",
    "    datasets = np.array(list(set(dataset_df[FID])))\n",
    "    kf = KFold(n_folds)\n",
    "    folds = []\n",
    "    fold = 1\n",
    "    for train_index, validate_index in kf.split(datasets):\n",
    "        train_datasets = set(datasets[train_index])\n",
    "        validate_datasets = set(datasets[validate_index])\n",
    "        train_df = dataset_df[dataset_df[FID].isin(train_datasets)]\n",
    "        validate_df = dataset_df[dataset_df[FID].isin(validate_datasets)]\n",
    "        train_df[['set', 'fold']] = 'T', fold\n",
    "        validate_df[['set','fold']] = 'V', fold\n",
    "        train_df = train_df.drop([FID, FIELD_ID], axis=1)\n",
    "        validate_df = validate_df.drop([FID, FIELD_ID], axis=1)\n",
    "\n",
    "        folds.append(train_df)\n",
    "        folds.append(validate_df)\n",
    "        fold += 1\n",
    "    \n",
    "    folds_df = pd.concat(folds)\n",
    "    output_file = f'{output_directory}/dummy_{file_id}_{n_folds}_folds.csv'\n",
    "    \n",
    "    with open(output_file, 'w') as f:\n",
    "        folds_df.to_csv(f, index=False)"
   ]
  },
  {
   "cell_type": "code",
   "execution_count": null,
   "metadata": {},
   "outputs": [],
   "source": [
    "dummy_folds('1k', 5)\n",
    "dummy_folds('3k', 5)\n",
    "dummy_folds('5k', 5)\n",
    "dummy_folds('10k', 5)"
   ]
  }
 ],
 "metadata": {
  "interpreter": {
   "hash": "0939b995531ce8a9066ad8a6450587907ae3c10297dd7ce61e1264b7deaa8f66"
  },
  "kernelspec": {
   "display_name": "Python 3.9.2 ('auto-graph-encoder': venv)",
   "language": "python",
   "name": "python3"
  },
  "language_info": {
   "codemirror_mode": {
    "name": "ipython",
    "version": 3
   },
   "file_extension": ".py",
   "mimetype": "text/x-python",
   "name": "python",
   "nbconvert_exporter": "python",
   "pygments_lexer": "ipython3",
   "version": "3.9.2"
  },
  "orig_nbformat": 4
 },
 "nbformat": 4,
 "nbformat_minor": 2
}

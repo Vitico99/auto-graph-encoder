{
 "cells": [
  {
   "cell_type": "code",
   "execution_count": 1,
   "metadata": {},
   "outputs": [],
   "source": [
    "from dummy.dataset import Dataset\n",
    "from models import RandomForestModel\n",
    "import numpy as np\n",
    "data = Dataset('./dummy/folds/dummy_50k_5_folds.csv')"
   ]
  },
  {
   "cell_type": "code",
   "execution_count": 7,
   "metadata": {},
   "outputs": [
    {
     "name": "stdout",
     "output_type": "stream",
     "text": [
      "---------------------------\n",
      "avg selected class probability:  0.4507299360056783\n",
      "avg mean class probability:  0.166666666666686\n",
      "avg std class probability:  0.15278449400851793\n",
      "---------------------------\n",
      "avg selected class probability:  0.4501833025309629\n",
      "avg mean class probability:  0.16666666666668695\n",
      "avg std class probability:  0.15268344802021894\n",
      "---------------------------\n",
      "avg selected class probability:  0.45226119690513866\n",
      "avg mean class probability:  0.16666666666668642\n",
      "avg std class probability:  0.15359766057621815\n",
      "---------------------------\n",
      "avg selected class probability:  0.45076160518899216\n",
      "avg mean class probability:  0.16666666666668634\n",
      "avg std class probability:  0.15259748967849268\n",
      "---------------------------\n",
      "avg selected class probability:  0.4545595673219484\n",
      "avg mean class probability:  0.16666666666668714\n",
      "avg std class probability:  0.15445710016848643\n"
     ]
    }
   ],
   "source": [
    "model = RandomForestModel()\n",
    "\n",
    "for x_train, y_train, x_val, y_val in data:\n",
    "    max_probs = 0 \n",
    "    model.train(x_train, y_train)\n",
    "    y_predict = model.prob_predict(x_val) \n",
    "    for y in y_predict:\n",
    "        max_probs += max(y)\n",
    "    max_probs /= len(y_predict))\n",
    "    print(\"---------------------------\")\n",
    "    print(\"avg selected class probability: \", max_probs)"
   ]
  },
  {
   "cell_type": "code",
   "execution_count": 3,
   "metadata": {},
   "outputs": [],
   "source": [
    "from models import eval_model"
   ]
  },
  {
   "cell_type": "code",
   "execution_count": null,
   "metadata": {},
   "outputs": [],
   "source": []
  },
  {
   "cell_type": "code",
   "execution_count": 4,
   "metadata": {},
   "outputs": [
    {
     "data": {
      "text/plain": [
       "{'Accuracy': 0.16834523049451072,\n",
       " 'Recall': 0.16834523049451072,\n",
       " 'F1': 0.16833163833108394,\n",
       " 'Cohen Kappa': 0.0020273659891096195,\n",
       " 'Matthews CC': 0.0020274363021572676}"
      ]
     },
     "execution_count": 4,
     "metadata": {},
     "output_type": "execute_result"
    }
   ],
   "source": []
  }
 ],
 "metadata": {
  "interpreter": {
   "hash": "0939b995531ce8a9066ad8a6450587907ae3c10297dd7ce61e1264b7deaa8f66"
  },
  "kernelspec": {
   "display_name": "Python 3.9.2 ('auto-graph-encoder': venv)",
   "language": "python",
   "name": "python3"
  },
  "language_info": {
   "codemirror_mode": {
    "name": "ipython",
    "version": 3
   },
   "file_extension": ".py",
   "mimetype": "text/x-python",
   "name": "python",
   "nbconvert_exporter": "python",
   "pygments_lexer": "ipython3",
   "version": "3.9.2"
  },
  "orig_nbformat": 4
 },
 "nbformat": 4,
 "nbformat_minor": 2
}

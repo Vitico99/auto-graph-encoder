{
 "cells": [
  {
   "cell_type": "code",
   "execution_count": 4,
   "metadata": {},
   "outputs": [],
   "source": [
    "from models import SimpleAutoencoder, DeepAutoencoder\n",
    "from dummy.dataset import Dataset\n",
    "import tensorflow as tf\n",
    "from models import RandomForestModel, KNeighborsModel, DecisionTreeModel, eval_model\n",
    "from sklearn.metrics import accuracy_score\n",
    "\n",
    "data = Dataset('./dummy/folds/dummy_50k_5_folds.csv')"
   ]
  },
  {
   "cell_type": "code",
   "execution_count": null,
   "metadata": {},
   "outputs": [],
   "source": [
    "for x_train, y_train, x_val, y_val in data:\n",
    "    encoder = DeepAutoencoder(indim=44, outdim=10)\n",
    "    model = RandomForestModel()\n",
    "    \n",
    "    encoder.train(x_train, epochs=4)\n",
    "\n",
    "    x_train = encoder.encode(x_train)\n",
    "    model.train(x_train, y_train)\n",
    "\n",
    "    x_val = encoder.encode(x_val)\n",
    "    y_predict = model.predict(x_val)\n",
    "    print(accuracy_score(y_val, y_predict))\n",
    "\n",
    "    # loss = encoder.evaluate(x_train, x_train)\n",
    "    # print(\"Reduction loss :\", loss)\n",
    "\n",
    "    #print(\"accuracy: \", accuracy)\n",
    "    \n",
    "\n"
   ]
  },
  {
   "cell_type": "code",
   "execution_count": 5,
   "metadata": {},
   "outputs": [
    {
     "name": "stdout",
     "output_type": "stream",
     "text": [
      "Running iteration 1...\n",
      "Training autoencoder...\n",
      "Epoch 1/4\n",
      "40099/40099 [==============================] - 97s 2ms/step - loss: 0.0978\n",
      "Epoch 2/4\n",
      "40099/40099 [==============================] - 61s 2ms/step - loss: 0.0879\n",
      "Epoch 3/4\n",
      "40099/40099 [==============================] - 66s 2ms/step - loss: 0.0874\n",
      "Epoch 4/4\n",
      "40099/40099 [==============================] - 99s 2ms/step - loss: 0.0876\n",
      "Training model...\n",
      "Evaluating metrics...\n",
      "Running iteration 2...\n",
      "Training autoencoder...\n",
      "Epoch 1/4\n",
      "39932/39932 [==============================] - 77s 2ms/step - loss: 0.1017\n",
      "Epoch 2/4\n",
      "39932/39932 [==============================] - 76s 2ms/step - loss: 0.0935\n",
      "Epoch 3/4\n",
      "39932/39932 [==============================] - 88s 2ms/step - loss: 0.0950\n",
      "Epoch 4/4\n",
      "39932/39932 [==============================] - 69s 2ms/step - loss: 0.0937\n",
      "Training model...\n",
      "Evaluating metrics...\n",
      "Running iteration 3...\n",
      "Training autoencoder...\n",
      "Epoch 1/4\n",
      "40025/40025 [==============================] - 89s 2ms/step - loss: 0.1081\n",
      "Epoch 2/4\n",
      "40025/40025 [==============================] - 74s 2ms/step - loss: 0.0944\n",
      "Epoch 3/4\n",
      "40025/40025 [==============================] - 73s 2ms/step - loss: 0.0928\n",
      "Epoch 4/4\n",
      "40025/40025 [==============================] - 73s 2ms/step - loss: 0.0941\n",
      "Training model...\n",
      "Evaluating metrics...\n",
      "Running iteration 4...\n",
      "Training autoencoder...\n",
      "Epoch 1/4\n",
      "40040/40040 [==============================] - 73s 2ms/step - loss: 0.1128\n",
      "Epoch 2/4\n",
      "40040/40040 [==============================] - 71s 2ms/step - loss: 0.0998\n",
      "Epoch 3/4\n",
      "40040/40040 [==============================] - 71s 2ms/step - loss: 0.0982\n",
      "Epoch 4/4\n",
      "40040/40040 [==============================] - 72s 2ms/step - loss: 0.0975\n",
      "Training model...\n",
      "Evaluating metrics...\n",
      "Running iteration 5...\n",
      "Training autoencoder...\n",
      "Epoch 1/4\n",
      "39896/39896 [==============================] - 73s 2ms/step - loss: 0.1051\n",
      "Epoch 2/4\n",
      "39896/39896 [==============================] - 79s 2ms/step - loss: 0.0917\n",
      "Epoch 3/4\n",
      "39896/39896 [==============================] - 49s 1ms/step - loss: 0.0908\n",
      "Epoch 4/4\n",
      "39896/39896 [==============================] - 60s 1ms/step - loss: 0.0904\n",
      "Training model...\n",
      "Evaluating metrics...\n"
     ]
    },
    {
     "data": {
      "text/plain": [
       "{'Accuracy': 0.3989976066773875,\n",
       " 'Recall': 0.3989976066773875,\n",
       " 'F1': 0.38974471040717745,\n",
       " 'Cohen Kappa': 0.27884075813983294,\n",
       " 'Matthews CC': 0.28024101357847886,\n",
       " 'ROC AUC': 0.7372952403914289,\n",
       " 'Log loss': 5.414986738291094}"
      ]
     },
     "execution_count": 5,
     "metadata": {},
     "output_type": "execute_result"
    }
   ],
   "source": [
    "eval_model(KNeighborsModel, data, ndims=10)"
   ]
  },
  {
   "cell_type": "code",
   "execution_count": 3,
   "metadata": {},
   "outputs": [
    {
     "name": "stdout",
     "output_type": "stream",
     "text": [
      "Running iteration 1...\n",
      "Training autoencoder...\n",
      "Epoch 1/4\n",
      "8001/8001 [==============================] - 22s 3ms/step - loss: 0.1290\n",
      "Epoch 2/4\n",
      "8001/8001 [==============================] - 15s 2ms/step - loss: 0.0921\n",
      "Epoch 3/4\n",
      "8001/8001 [==============================] - 15s 2ms/step - loss: 0.0915\n",
      "Epoch 4/4\n",
      "8001/8001 [==============================] - 18s 2ms/step - loss: 0.0920\n",
      "Training model...\n",
      "Evaluating metrics...\n",
      "Running iteration 2...\n",
      "Training autoencoder...\n",
      "Epoch 1/4\n",
      "7985/7985 [==============================] - 15s 2ms/step - loss: 0.1270\n",
      "Epoch 2/4\n",
      "7985/7985 [==============================] - 16s 2ms/step - loss: 0.0880\n",
      "Epoch 3/4\n",
      "7985/7985 [==============================] - 21s 3ms/step - loss: 0.0829\n",
      "Epoch 4/4\n",
      "7985/7985 [==============================] - 14s 2ms/step - loss: 0.0817\n",
      "Training model...\n",
      "Evaluating metrics...\n",
      "Running iteration 3...\n",
      "Training autoencoder...\n",
      "Epoch 1/4\n",
      "8002/8002 [==============================] - 17s 2ms/step - loss: 0.1274\n",
      "Epoch 2/4\n",
      "8002/8002 [==============================] - 14s 2ms/step - loss: 0.0962\n",
      "Epoch 3/4\n",
      "8002/8002 [==============================] - 16s 2ms/step - loss: 0.0951\n",
      "Epoch 4/4\n",
      "8002/8002 [==============================] - 15s 2ms/step - loss: 0.0949\n",
      "Training model...\n",
      "Evaluating metrics...\n",
      "Running iteration 4...\n",
      "Training autoencoder...\n",
      "Epoch 1/4\n",
      "7989/7989 [==============================] - 15s 2ms/step - loss: 0.1360\n",
      "Epoch 2/4\n",
      "7989/7989 [==============================] - 16s 2ms/step - loss: 0.1031\n",
      "Epoch 3/4\n",
      "7989/7989 [==============================] - 15s 2ms/step - loss: 0.0992\n",
      "Epoch 4/4\n",
      "7989/7989 [==============================] - 19s 2ms/step - loss: 0.0979\n",
      "Training model...\n",
      "Evaluating metrics...\n",
      "Running iteration 5...\n",
      "Training autoencoder...\n",
      "Epoch 1/4\n",
      "8007/8007 [==============================] - 18s 2ms/step - loss: 0.1259\n",
      "Epoch 2/4\n",
      "8007/8007 [==============================] - 14s 2ms/step - loss: 0.0888\n",
      "Epoch 3/4\n",
      "8007/8007 [==============================] - 14s 2ms/step - loss: 0.0860\n",
      "Epoch 4/4\n",
      "8007/8007 [==============================] - 14s 2ms/step - loss: 0.0842\n",
      "Training model...\n",
      "Evaluating metrics...\n"
     ]
    },
    {
     "data": {
      "text/plain": [
       "{'Accuracy': 0.38333969452721917,\n",
       " 'Recall': 0.38333969452721917,\n",
       " 'F1': 0.3705952460473022,\n",
       " 'Cohen Kappa': 0.2599224656501466,\n",
       " 'Matthews CC': 0.26321352292955036,\n",
       " 'ROC AUC': 0.7330892598761428,\n",
       " 'Log loss': 2.313025861776171}"
      ]
     },
     "execution_count": 3,
     "metadata": {},
     "output_type": "execute_result"
    }
   ],
   "source": [
    "eval_model(DecisionTreeModel, data, ndims=20)"
   ]
  },
  {
   "cell_type": "markdown",
   "metadata": {},
   "source": []
  }
 ],
 "metadata": {
  "interpreter": {
   "hash": "0939b995531ce8a9066ad8a6450587907ae3c10297dd7ce61e1264b7deaa8f66"
  },
  "kernelspec": {
   "display_name": "Python 3.9.2 ('auto-graph-encoder': venv)",
   "language": "python",
   "name": "python3"
  },
  "language_info": {
   "codemirror_mode": {
    "name": "ipython",
    "version": 3
   },
   "file_extension": ".py",
   "mimetype": "text/x-python",
   "name": "python",
   "nbconvert_exporter": "python",
   "pygments_lexer": "ipython3",
   "version": "3.9.2"
  },
  "orig_nbformat": 4
 },
 "nbformat": 4,
 "nbformat_minor": 2
}

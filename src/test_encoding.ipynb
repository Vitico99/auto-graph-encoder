{
 "cells": [
  {
   "cell_type": "code",
   "execution_count": 1,
   "metadata": {},
   "outputs": [
    {
     "name": "stderr",
     "output_type": "stream",
     "text": [
      "2022-06-30 22:49:00.242805: W tensorflow/stream_executor/platform/default/dso_loader.cc:64] Could not load dynamic library 'libcudart.so.11.0'; dlerror: libcudart.so.11.0: cannot open shared object file: No such file or directory\n",
      "2022-06-30 22:49:00.242904: I tensorflow/stream_executor/cuda/cudart_stub.cc:29] Ignore above cudart dlerror if you do not have a GPU set up on your machine.\n"
     ]
    }
   ],
   "source": [
    "from models import SimpleAutoencoder, DeepAutoencoder\n",
    "from dummy.dataset import Dataset\n",
    "import tensorflow as tf\n",
    "from models import RandomForestModel, KNeighborsModel, DecisionTreeModel, eval_model\n",
    "from sklearn.metrics import accuracy_score\n",
    "\n",
    "data = Dataset('./dummy/folds/dummy_10k_5_folds.csv')"
   ]
  },
  {
   "cell_type": "code",
   "execution_count": null,
   "metadata": {},
   "outputs": [],
   "source": [
    "for x_train, y_train, x_val, y_val in data:\n",
    "    encoder = DeepAutoencoder(indim=44, outdim=10)\n",
    "    model = RandomForestModel()\n",
    "    \n",
    "    encoder.train(x_train, epochs=4)\n",
    "\n",
    "    x_train = encoder.encode(x_train)\n",
    "    model.train(x_train, y_train)\n",
    "\n",
    "    x_val = encoder.encode(x_val)\n",
    "    y_predict = model.predict(x_val)\n",
    "    print(accuracy_score(y_val, y_predict))\n",
    "\n",
    "    # loss = encoder.evaluate(x_train, x_train)\n",
    "    # print(\"Reduction loss :\", loss)\n",
    "\n",
    "    #print(\"accuracy: \", accuracy)\n",
    "    \n",
    "\n"
   ]
  },
  {
   "cell_type": "code",
   "execution_count": 2,
   "metadata": {},
   "outputs": [
    {
     "name": "stdout",
     "output_type": "stream",
     "text": [
      "Running iteration 1...\n",
      "Training autoencoder...\n",
      "Epoch 1/4\n"
     ]
    },
    {
     "name": "stderr",
     "output_type": "stream",
     "text": [
      "2022-06-30 22:49:06.761100: I tensorflow/stream_executor/cuda/cuda_gpu_executor.cc:961] could not open file to read NUMA node: /sys/bus/pci/devices/0000:01:00.0/numa_node\n",
      "Your kernel may have been built without NUMA support.\n",
      "2022-06-30 22:49:06.761474: W tensorflow/stream_executor/platform/default/dso_loader.cc:64] Could not load dynamic library 'libcudart.so.11.0'; dlerror: libcudart.so.11.0: cannot open shared object file: No such file or directory\n",
      "2022-06-30 22:49:06.761550: W tensorflow/stream_executor/platform/default/dso_loader.cc:64] Could not load dynamic library 'libcublas.so.11'; dlerror: libcublas.so.11: cannot open shared object file: No such file or directory\n",
      "2022-06-30 22:49:06.761616: W tensorflow/stream_executor/platform/default/dso_loader.cc:64] Could not load dynamic library 'libcublasLt.so.11'; dlerror: libcublasLt.so.11: cannot open shared object file: No such file or directory\n",
      "2022-06-30 22:49:06.761681: W tensorflow/stream_executor/platform/default/dso_loader.cc:64] Could not load dynamic library 'libcufft.so.10'; dlerror: libcufft.so.10: cannot open shared object file: No such file or directory\n",
      "2022-06-30 22:49:06.761744: W tensorflow/stream_executor/platform/default/dso_loader.cc:64] Could not load dynamic library 'libcurand.so.10'; dlerror: libcurand.so.10: cannot open shared object file: No such file or directory\n",
      "2022-06-30 22:49:06.761808: W tensorflow/stream_executor/platform/default/dso_loader.cc:64] Could not load dynamic library 'libcusolver.so.11'; dlerror: libcusolver.so.11: cannot open shared object file: No such file or directory\n",
      "2022-06-30 22:49:06.761874: W tensorflow/stream_executor/platform/default/dso_loader.cc:64] Could not load dynamic library 'libcusparse.so.11'; dlerror: libcusparse.so.11: cannot open shared object file: No such file or directory\n",
      "2022-06-30 22:49:06.761937: W tensorflow/stream_executor/platform/default/dso_loader.cc:64] Could not load dynamic library 'libcudnn.so.8'; dlerror: libcudnn.so.8: cannot open shared object file: No such file or directory\n",
      "2022-06-30 22:49:06.761947: W tensorflow/core/common_runtime/gpu/gpu_device.cc:1850] Cannot dlopen some GPU libraries. Please make sure the missing libraries mentioned above are installed properly if you would like to use GPU. Follow the guide at https://www.tensorflow.org/install/gpu for how to download and setup the required libraries for your platform.\n",
      "Skipping registering GPU devices...\n",
      "2022-06-30 22:49:06.763069: I tensorflow/core/platform/cpu_feature_guard.cc:193] This TensorFlow binary is optimized with oneAPI Deep Neural Network Library (oneDNN) to use the following CPU instructions in performance-critical operations:  AVX2 FMA\n",
      "To enable them in other operations, rebuild TensorFlow with the appropriate compiler flags.\n"
     ]
    },
    {
     "name": "stdout",
     "output_type": "stream",
     "text": [
      "8001/8001 [==============================] - 20s 2ms/step - loss: 0.1391\n",
      "Epoch 2/4\n",
      "8001/8001 [==============================] - 24s 3ms/step - loss: 0.0938\n",
      "Epoch 3/4\n",
      "8001/8001 [==============================] - 18s 2ms/step - loss: 0.0888\n",
      "Epoch 4/4\n",
      "8001/8001 [==============================] - 21s 3ms/step - loss: 0.0893\n",
      "Training model...\n",
      "Evaluating metrics...\n",
      "Running iteration 2...\n",
      "Training autoencoder...\n",
      "Epoch 1/4\n",
      "7985/7985 [==============================] - 19s 2ms/step - loss: 0.1356\n",
      "Epoch 2/4\n",
      "7985/7985 [==============================] - 19s 2ms/step - loss: 0.0978\n",
      "Epoch 3/4\n",
      "7985/7985 [==============================] - 19s 2ms/step - loss: 0.0929\n",
      "Epoch 4/4\n",
      "7985/7985 [==============================] - 25s 3ms/step - loss: 0.0896\n",
      "Training model...\n",
      "Evaluating metrics...\n",
      "Running iteration 3...\n",
      "Training autoencoder...\n",
      "Epoch 1/4\n",
      "8002/8002 [==============================] - 20s 2ms/step - loss: 0.1340\n",
      "Epoch 2/4\n",
      "8002/8002 [==============================] - 23s 3ms/step - loss: 0.1005\n",
      "Epoch 3/4\n",
      "8002/8002 [==============================] - 24s 3ms/step - loss: 0.0952\n",
      "Epoch 4/4\n",
      "8002/8002 [==============================] - 19s 2ms/step - loss: 0.0933\n",
      "Training model...\n",
      "Evaluating metrics...\n",
      "Running iteration 4...\n",
      "Training autoencoder...\n",
      "Epoch 1/4\n",
      "7989/7989 [==============================] - 22s 3ms/step - loss: 0.1294\n",
      "Epoch 2/4\n",
      "7989/7989 [==============================] - 19s 2ms/step - loss: 0.0916\n",
      "Epoch 3/4\n",
      "7989/7989 [==============================] - 19s 2ms/step - loss: 0.0887\n",
      "Epoch 4/4\n",
      "7989/7989 [==============================] - 18s 2ms/step - loss: 0.0888\n",
      "Training model...\n",
      "Evaluating metrics...\n",
      "Running iteration 5...\n",
      "Training autoencoder...\n",
      "Epoch 1/4\n",
      "8007/8007 [==============================] - 21s 3ms/step - loss: 0.1243\n",
      "Epoch 2/4\n",
      "8007/8007 [==============================] - 20s 2ms/step - loss: 0.0877\n",
      "Epoch 3/4\n",
      "8007/8007 [==============================] - 19s 2ms/step - loss: 0.0844\n",
      "Epoch 4/4\n",
      "8007/8007 [==============================] - 20s 2ms/step - loss: 0.0841\n",
      "Training model...\n",
      "Evaluating metrics...\n"
     ]
    },
    {
     "data": {
      "text/plain": [
       "{'Accuracy': 0.39593057177790325,\n",
       " 'Recall': 0.39593057177790325,\n",
       " 'F1': 0.3861281862941797,\n",
       " 'Cohen Kappa': 0.27514105345385004,\n",
       " 'Matthews CC': 0.27644509509943016,\n",
       " 'ROC AUC': 0.7341440329040234,\n",
       " 'Log loss': 5.169049842150213}"
      ]
     },
     "execution_count": 2,
     "metadata": {},
     "output_type": "execute_result"
    }
   ],
   "source": [
    "eval_model(KNeighborsModel, data, ndims=10)"
   ]
  },
  {
   "cell_type": "code",
   "execution_count": null,
   "metadata": {},
   "outputs": [],
   "source": [
    "eval_model(DecisionTreeModel, data, ndims=20)"
   ]
  }
 ],
 "metadata": {
  "interpreter": {
   "hash": "0939b995531ce8a9066ad8a6450587907ae3c10297dd7ce61e1264b7deaa8f66"
  },
  "kernelspec": {
   "display_name": "Python 3.9.2 ('auto-graph-encoder': venv)",
   "language": "python",
   "name": "python3"
  },
  "language_info": {
   "codemirror_mode": {
    "name": "ipython",
    "version": 3
   },
   "file_extension": ".py",
   "mimetype": "text/x-python",
   "name": "python",
   "nbconvert_exporter": "python",
   "pygments_lexer": "ipython3",
   "version": "3.9.2"
  },
  "orig_nbformat": 4
 },
 "nbformat": 4,
 "nbformat_minor": 2
}

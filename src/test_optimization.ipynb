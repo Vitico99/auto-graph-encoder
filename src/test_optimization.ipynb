{
 "cells": [
  {
   "cell_type": "code",
   "execution_count": 1,
   "metadata": {},
   "outputs": [],
   "source": [
    "from dummy.dataset import Dataset\n",
    "from models import *\n",
    "\n",
    "data = Dataset('./dummy/folds/dummy_10k_5_folds.csv')"
   ]
  },
  {
   "cell_type": "code",
   "execution_count": 2,
   "metadata": {},
   "outputs": [],
   "source": [
    "parameters_KNN = {\n",
    "    'n_neighbors': (1,10, 1),\n",
    "    'leaf_size': (20,40,1),\n",
    "    'p': (1,2),\n",
    "    'weights': ('uniform', 'distance'),\n",
    "    'metric': ('minkowski', 'chebyshev'),\n",
    "}\n",
    "\n",
    "param_grad = {\n",
    "    'n_estimators': range(20,81,100)\n",
    "}\n",
    "\n",
    "param_dtree = { \n",
    "    'criterion' : ('gini', 'entropy'), \n",
    "    'max_depth' : (2,4,6,8,10,12)\n",
    "}"
   ]
  },
  {
   "cell_type": "code",
   "execution_count": 3,
   "metadata": {},
   "outputs": [
    {
     "data": {
      "text/plain": [
       "{'Accuracy': 0.3997258790710904,\n",
       " 'Recall': 0.3997258790710904,\n",
       " 'F1': 0.38886249791871536,\n",
       " 'Cohen Kappa': 0.279535336845538,\n",
       " 'Matthews CC': 0.2813287685753273}"
      ]
     },
     "execution_count": 3,
     "metadata": {},
     "output_type": "execute_result"
    }
   ],
   "source": [
    "#find the parameters to optimize\n",
    "for x_train, y_train, x_validate, y_validate in data:\n",
    "    model = KNeighborsModel()\n",
    "    grid_search_model = optimize(model.knn,parameters_KNN,x_train,y_train,cv_ = 5,scoring_=\"accuracy\",n_jobs_ = -1)    "
   ]
  },
  {
   "cell_type": "code",
   "execution_count": 3,
   "metadata": {},
   "outputs": [],
   "source": [
    "eval_model(SVCModel, data)"
   ]
  },
  {
   "cell_type": "code",
   "execution_count": null,
   "metadata": {},
   "outputs": [],
   "source": [
    "eval_model(NaiveBayesModel, data)\n",
    "\n",
    "# params = {\n",
    "#     'solver': ('lsqr','eigen'),  #note svd does not run with shrinkage and models using it will be tuned separately\n",
    "#     'n_components': (1,5,1),\n",
    "# }\n",
    "\n",
    "# for x_train, y_train, x_validate, y_validate in data:\n",
    "#     model_ = NaiveBayesModel()\n",
    "#     grid_search_model = optimize(model_.gnb, params, x_train, y_train, cv_=5, scoring_=\"accuracy\", n_jobs_=4)    "
   ]
  },
  {
   "cell_type": "code",
   "execution_count": null,
   "metadata": {},
   "outputs": [],
   "source": [
    "eval_model(LogisticRegressionModel, data)"
   ]
  },
  {
   "cell_type": "code",
   "execution_count": 2,
   "metadata": {},
   "outputs": [
    {
     "data": {
      "text/plain": [
       "{'Accuracy': 0.4334814557171664,\n",
       " 'Recall': 0.4334814557171664,\n",
       " 'F1': 0.42675578289214655,\n",
       " 'Cohen Kappa': 0.32007816979716075,\n",
       " 'Matthews CC': 0.3210922604855617}"
      ]
     },
     "execution_count": 2,
     "metadata": {},
     "output_type": "execute_result"
    }
   ],
   "source": [
    "eval_model(DecisionTreeModel, data)\n",
    "\n",
    "# for x_train, y_train, x_validate, y_validate in data:\n",
    "#     model_ = DecisionTreeModel()\n",
    "#     grid_search_model = optimize(model_.dtc ,param_dtree,x_train,y_train,cv_ = 5,scoring_=\"accuracy\",n_jobs_ = 4)    "
   ]
  },
  {
   "cell_type": "code",
   "execution_count": null,
   "metadata": {},
   "outputs": [
    {
     "ename": "KeyError",
     "evalue": "'gni'",
     "output_type": "error",
     "traceback": [
      "\u001b[0;31m---------------------------------------------------------------------------\u001b[0m",
      "\u001b[0;31mKeyError\u001b[0m                                  Traceback (most recent call last)",
      "\u001b[1;32m/media/amanda/DATA6/School/5to Año/IA/proyecto/auto-graph-encoder/src/test_datasets.ipynb Cell 6'\u001b[0m in \u001b[0;36m<cell line: 1>\u001b[0;34m()\u001b[0m\n\u001b[0;32m----> <a href='vscode-notebook-cell:/media/amanda/DATA6/School/5to%20A%C3%B1o/IA/proyecto/auto-graph-encoder/src/test_datasets.ipynb#ch0000006?line=0'>1</a>\u001b[0m eval_model(DecisionTreeModel, data)\n",
      "File \u001b[0;32m/media/amanda/DATA6/School/5to Año/IA/proyecto/auto-graph-encoder/src/eval.py:39\u001b[0m, in \u001b[0;36meval_model\u001b[0;34m(model_class, dataset)\u001b[0m\n\u001b[1;32m     <a href='file:///media/amanda/DATA6/School/5to%20A%C3%B1o/IA/proyecto/auto-graph-encoder/src/eval.py?line=35'>36</a>\u001b[0m \u001b[39mfor\u001b[39;00m x_train, y_train, x_validate, y_validate \u001b[39min\u001b[39;00m dataset:\n\u001b[1;32m     <a href='file:///media/amanda/DATA6/School/5to%20A%C3%B1o/IA/proyecto/auto-graph-encoder/src/eval.py?line=36'>37</a>\u001b[0m     model \u001b[39m=\u001b[39m model_class()\n\u001b[0;32m---> <a href='file:///media/amanda/DATA6/School/5to%20A%C3%B1o/IA/proyecto/auto-graph-encoder/src/eval.py?line=38'>39</a>\u001b[0m     model\u001b[39m.\u001b[39;49mtrain(x_train, y_train)\n\u001b[1;32m     <a href='file:///media/amanda/DATA6/School/5to%20A%C3%B1o/IA/proyecto/auto-graph-encoder/src/eval.py?line=40'>41</a>\u001b[0m     y_predict \u001b[39m=\u001b[39m model\u001b[39m.\u001b[39mpredict(x_validate)\n\u001b[1;32m     <a href='file:///media/amanda/DATA6/School/5to%20A%C3%B1o/IA/proyecto/auto-graph-encoder/src/eval.py?line=41'>42</a>\u001b[0m     \u001b[39mif\u001b[39;00m \u001b[39missubclass\u001b[39m(model_class, MultiOutputModel):\n",
      "File \u001b[0;32m/media/amanda/DATA6/School/5to Año/IA/proyecto/auto-graph-encoder/src/dtree.py:9\u001b[0m, in \u001b[0;36mDecisionTreeModel.train\u001b[0;34m(self, X, Y)\u001b[0m\n\u001b[1;32m      <a href='file:///media/amanda/DATA6/School/5to%20A%C3%B1o/IA/proyecto/auto-graph-encoder/src/dtree.py?line=7'>8</a>\u001b[0m \u001b[39mdef\u001b[39;00m \u001b[39mtrain\u001b[39m(\u001b[39mself\u001b[39m, X, Y):\n\u001b[0;32m----> <a href='file:///media/amanda/DATA6/School/5to%20A%C3%B1o/IA/proyecto/auto-graph-encoder/src/dtree.py?line=8'>9</a>\u001b[0m     \u001b[39mself\u001b[39;49m\u001b[39m.\u001b[39;49mdtc\u001b[39m.\u001b[39;49mfit(X, Y)\n",
      "File \u001b[0;32m~/.local/lib/python3.9/site-packages/sklearn/tree/_classes.py:969\u001b[0m, in \u001b[0;36mDecisionTreeClassifier.fit\u001b[0;34m(self, X, y, sample_weight, check_input)\u001b[0m\n\u001b[1;32m    <a href='file:///home/amanda/.local/lib/python3.9/site-packages/sklearn/tree/_classes.py?line=938'>939</a>\u001b[0m \u001b[39mdef\u001b[39;00m \u001b[39mfit\u001b[39m(\u001b[39mself\u001b[39m, X, y, sample_weight\u001b[39m=\u001b[39m\u001b[39mNone\u001b[39;00m, check_input\u001b[39m=\u001b[39m\u001b[39mTrue\u001b[39;00m):\n\u001b[1;32m    <a href='file:///home/amanda/.local/lib/python3.9/site-packages/sklearn/tree/_classes.py?line=939'>940</a>\u001b[0m     \u001b[39m\"\"\"Build a decision tree classifier from the training set (X, y).\u001b[39;00m\n\u001b[1;32m    <a href='file:///home/amanda/.local/lib/python3.9/site-packages/sklearn/tree/_classes.py?line=940'>941</a>\u001b[0m \n\u001b[1;32m    <a href='file:///home/amanda/.local/lib/python3.9/site-packages/sklearn/tree/_classes.py?line=941'>942</a>\u001b[0m \u001b[39m    Parameters\u001b[39;00m\n\u001b[0;32m   (...)\u001b[0m\n\u001b[1;32m    <a href='file:///home/amanda/.local/lib/python3.9/site-packages/sklearn/tree/_classes.py?line=965'>966</a>\u001b[0m \u001b[39m        Fitted estimator.\u001b[39;00m\n\u001b[1;32m    <a href='file:///home/amanda/.local/lib/python3.9/site-packages/sklearn/tree/_classes.py?line=966'>967</a>\u001b[0m \u001b[39m    \"\"\"\u001b[39;00m\n\u001b[0;32m--> <a href='file:///home/amanda/.local/lib/python3.9/site-packages/sklearn/tree/_classes.py?line=968'>969</a>\u001b[0m     \u001b[39msuper\u001b[39;49m()\u001b[39m.\u001b[39;49mfit(\n\u001b[1;32m    <a href='file:///home/amanda/.local/lib/python3.9/site-packages/sklearn/tree/_classes.py?line=969'>970</a>\u001b[0m         X,\n\u001b[1;32m    <a href='file:///home/amanda/.local/lib/python3.9/site-packages/sklearn/tree/_classes.py?line=970'>971</a>\u001b[0m         y,\n\u001b[1;32m    <a href='file:///home/amanda/.local/lib/python3.9/site-packages/sklearn/tree/_classes.py?line=971'>972</a>\u001b[0m         sample_weight\u001b[39m=\u001b[39;49msample_weight,\n\u001b[1;32m    <a href='file:///home/amanda/.local/lib/python3.9/site-packages/sklearn/tree/_classes.py?line=972'>973</a>\u001b[0m         check_input\u001b[39m=\u001b[39;49mcheck_input,\n\u001b[1;32m    <a href='file:///home/amanda/.local/lib/python3.9/site-packages/sklearn/tree/_classes.py?line=973'>974</a>\u001b[0m     )\n\u001b[1;32m    <a href='file:///home/amanda/.local/lib/python3.9/site-packages/sklearn/tree/_classes.py?line=974'>975</a>\u001b[0m     \u001b[39mreturn\u001b[39;00m \u001b[39mself\u001b[39m\n",
      "File \u001b[0;32m~/.local/lib/python3.9/site-packages/sklearn/tree/_classes.py:390\u001b[0m, in \u001b[0;36mBaseDecisionTree.fit\u001b[0;34m(self, X, y, sample_weight, check_input)\u001b[0m\n\u001b[1;32m    <a href='file:///home/amanda/.local/lib/python3.9/site-packages/sklearn/tree/_classes.py?line=387'>388</a>\u001b[0m \u001b[39mif\u001b[39;00m \u001b[39mnot\u001b[39;00m \u001b[39misinstance\u001b[39m(criterion, Criterion):\n\u001b[1;32m    <a href='file:///home/amanda/.local/lib/python3.9/site-packages/sklearn/tree/_classes.py?line=388'>389</a>\u001b[0m     \u001b[39mif\u001b[39;00m is_classification:\n\u001b[0;32m--> <a href='file:///home/amanda/.local/lib/python3.9/site-packages/sklearn/tree/_classes.py?line=389'>390</a>\u001b[0m         criterion \u001b[39m=\u001b[39m CRITERIA_CLF[\u001b[39mself\u001b[39;49m\u001b[39m.\u001b[39;49mcriterion](\n\u001b[1;32m    <a href='file:///home/amanda/.local/lib/python3.9/site-packages/sklearn/tree/_classes.py?line=390'>391</a>\u001b[0m             \u001b[39mself\u001b[39m\u001b[39m.\u001b[39mn_outputs_, \u001b[39mself\u001b[39m\u001b[39m.\u001b[39mn_classes_\n\u001b[1;32m    <a href='file:///home/amanda/.local/lib/python3.9/site-packages/sklearn/tree/_classes.py?line=391'>392</a>\u001b[0m         )\n\u001b[1;32m    <a href='file:///home/amanda/.local/lib/python3.9/site-packages/sklearn/tree/_classes.py?line=392'>393</a>\u001b[0m     \u001b[39melse\u001b[39;00m:\n\u001b[1;32m    <a href='file:///home/amanda/.local/lib/python3.9/site-packages/sklearn/tree/_classes.py?line=393'>394</a>\u001b[0m         criterion \u001b[39m=\u001b[39m CRITERIA_REG[\u001b[39mself\u001b[39m\u001b[39m.\u001b[39mcriterion](\u001b[39mself\u001b[39m\u001b[39m.\u001b[39mn_outputs_, n_samples)\n",
      "\u001b[0;31mKeyError\u001b[0m: 'gni'"
     ]
    }
   ],
   "source": [
    "eval_model(RandomForestModel, data)\n",
    "\n",
    "#find the parameters to optimize\n",
    "# n_estimators = [int(x) for x in np.linspace(start = 200, stop = 2000, num = 10)]\n",
    "# max_features = ['auto', 'sqrt']\n",
    "# max_depth = [int(x) for x in np.linspace(10, 110, num = 11)]\n",
    "# max_depth.append(None)\n",
    "# min_samples_split = [2, 5, 10]\n",
    "# min_samples_leaf = [1, 2, 4]\n",
    "# bootstrap = [True, False]\n",
    "# random_grid = { \n",
    "#     'n_estimators': n_estimators,\n",
    "#     'max_features': max_features,\n",
    "#     'max_depth': max_depth,\n",
    "#     'min_samples_split': min_samples_split,\n",
    "#     'min_samples_leaf': min_samples_leaf,\n",
    "#     'bootstrap': bootstrap \n",
    "# }\n",
    "\n",
    "#for x_train, y_train, x_validate, y_validate in data:\n",
    "    #model = RandomForestModel()\n",
    "    #grid_search_model = optimize(model.rfst, random_grid, x_train, y_train, cv_=3, scoring_=\"accuracy\", n_jobs_=-1)"
   ]
  },
  {
   "cell_type": "code",
   "execution_count": null,
   "metadata": {},
   "outputs": [],
   "source": [
    "eval_model(GradientBoostingModel, data)\n",
    "\n",
    "#param_grad = {'n_estimators':range(20,81,100)}\n",
    "#for x_train, y_train, x_validate, y_validate in data:\n",
    "  #  model = GradientBoostingModel()\n",
    "  #  grid_search_model = optimize(model.gbc,param_grad,x_train,y_train,cv_ = 5,scoring_=\"accuracy\",n_jobs_ = 4)      "
   ]
  }
 ],
 "metadata": {
  "interpreter": {
   "hash": "f9f85f796d01129d0dd105a088854619f454435301f6ffec2fea96ecbd9be4ac"
  },
  "kernelspec": {
   "display_name": "Python 3.9.13 64-bit",
   "language": "python",
   "name": "python3"
  },
  "language_info": {
   "codemirror_mode": {
    "name": "ipython",
    "version": 3
   },
   "file_extension": ".py",
   "mimetype": "text/x-python",
   "name": "python",
   "nbconvert_exporter": "python",
   "pygments_lexer": "ipython3",
   "version": "3.9.13"
  },
  "orig_nbformat": 4
 },
 "nbformat": 4,
 "nbformat_minor": 2
}

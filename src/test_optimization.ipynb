{
 "cells": [
  {
   "cell_type": "code",
   "execution_count": null,
   "metadata": {},
   "outputs": [],
   "source": [
    "from dummy.dataset import Dataset\n",
    "from models import *\n",
    "\n",
    "opt_data = Dataset('./dummy/folds/dummy_10k_5_folds.csv')\n",
    "eval_data = Dataset('./dummy/folds/dummy_50k_5_folds.csv')"
   ]
  },
  {
   "cell_type": "code",
   "execution_count": null,
   "metadata": {},
   "outputs": [],
   "source": [
    "#find the parameters to optimize\n",
    "parameters_KNN = {\n",
    "    'n_neighbors': (1,10, 1),\n",
    "    'leaf_size': (20,40,1),\n",
    "    'p': (1,2),\n",
    "    'weights': ('uniform', 'distance'),\n",
    "    'metric': ('minkowski', 'chebyshev'),\n",
    "}\n",
    "model = KNeighborsModel()\n",
    "best_params = optimize(model.knn,parameters_KNN,opt_data,cv_ = 5,scoring_=\"accuracy\",n_jobs_ = -1)    "
   ]
  },
  {
   "cell_type": "code",
   "execution_count": null,
   "metadata": {},
   "outputs": [],
   "source": [
    "eval_model(KNeighborsModel, eval_data, best_params)"
   ]
  },
  {
   "cell_type": "code",
   "execution_count": null,
   "metadata": {},
   "outputs": [],
   "source": [
    "param_dtree = { \n",
    "    'criterion' : ('gini', 'entropy'), \n",
    "    'max_depth' : (2,4,6,8,10,12)\n",
    "}\n",
    "\n",
    "\n",
    "model_ = DecisionTreeModel()\n",
    "best_params = optimize(model_.dtc ,param_dtree, opt_data,cv_ = 5,scoring_=\"accuracy\",n_jobs_ = 4)    "
   ]
  },
  {
   "cell_type": "code",
   "execution_count": null,
   "metadata": {},
   "outputs": [],
   "source": [
    "eval_model(DecisionTreeModel, eval_data, best_params)"
   ]
  },
  {
   "cell_type": "code",
   "execution_count": 6,
   "metadata": {},
   "outputs": [],
   "source": [
    "import numpy as np\n",
    "\n",
    "#find the parameters to optimize\n",
    "n_estimators = [int(x) for x in np.linspace(start = 200, stop = 2000, num = 10)]\n",
    "max_features = ['auto', 'sqrt']\n",
    "max_depth = [int(x) for x in np.linspace(10, 110, num = 11)]\n",
    "max_depth.append(None)\n",
    "min_samples_split = [2, 5, 10]\n",
    "min_samples_leaf = [1, 2, 4]\n",
    "bootstrap = [True, False]\n",
    "random_grid = { \n",
    "    'n_estimators': n_estimators,\n",
    "    'max_features': max_features,\n",
    "    'max_depth': max_depth,\n",
    "    'min_samples_split': min_samples_split,\n",
    "    'min_samples_leaf': min_samples_leaf,\n",
    "    'bootstrap': bootstrap \n",
    "}\n",
    "\n",
    "model = RandomForestModel()\n",
    "best_params = optimize(model.rfst, random_grid, opt_data, cv_=3, scoring_=\"accuracy\", n_jobs_=-1)"
   ]
  },
  {
   "cell_type": "code",
   "execution_count": null,
   "metadata": {},
   "outputs": [],
   "source": [
    "eval_model(RandomForestModel, eval_data, best_params)"
   ]
  },
  {
   "cell_type": "code",
   "execution_count": null,
   "metadata": {},
   "outputs": [],
   "source": [
    "param_grad = {\n",
    "    'n_estimators': range(20,40)\n",
    "}\n",
    "\n",
    "model = GradientBoostingModel()\n",
    "best_params = optimize(model.gbc,param_grad,opt_data,cv_ = 5,scoring_=\"accuracy\",n_jobs_ = 4)      "
   ]
  },
  {
   "cell_type": "code",
   "execution_count": null,
   "metadata": {},
   "outputs": [],
   "source": [
    "eval_model(GradientBoostingModel, eval_data, best_params)"
   ]
  }
 ],
 "metadata": {
  "interpreter": {
   "hash": "f9f85f796d01129d0dd105a088854619f454435301f6ffec2fea96ecbd9be4ac"
  },
  "kernelspec": {
   "display_name": "Python 3.9.13 64-bit",
   "language": "python",
   "name": "python3"
  },
  "language_info": {
   "codemirror_mode": {
    "name": "ipython",
    "version": 3
   },
   "file_extension": ".py",
   "mimetype": "text/x-python",
   "name": "python",
   "nbconvert_exporter": "python",
   "pygments_lexer": "ipython3",
   "version": "3.9.2"
  },
  "orig_nbformat": 4
 },
 "nbformat": 4,
 "nbformat_minor": 2
}
